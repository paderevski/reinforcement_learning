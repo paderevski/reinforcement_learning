{
 "cells": [
  {
   "cell_type": "markdown",
   "id": "1fde11ea-91c0-4995-84b7-a35a361f3984",
   "metadata": {},
   "source": [
    "# Gambler's Problem"
   ]
  },
  {
   "cell_type": "code",
   "execution_count": 95,
   "id": "f0fd6480-2fa5-41ed-8694-d00e3977c723",
   "metadata": {},
   "outputs": [],
   "source": [
    "import random, numpy, pandas, matplotlib, os\n",
    "import matplotlib.pyplot as plt"
   ]
  },
  {
   "cell_type": "code",
   "execution_count": 96,
   "id": "4524c23f-0e30-4957-a309-021b3aee860d",
   "metadata": {},
   "outputs": [],
   "source": [
    "goal = 100\n",
    "def arange(x, start = 0):\n",
    "    return range(start, x+1)\n",
    "    \n",
    "states = arange(goal)\n",
    "actions = arange(goal)\n",
    "\n",
    "p_h = 0.4 #probability of heads\n",
    "\n",
    "def actions_from_state(s, start = 1):\n",
    "    return list(arange(min(s,100-s),start=1))\n",
    "\n",
    "def weighted_children(s, a):\n",
    "    if a == 0 or a > s or a > 100 - s:\n",
    "        return None\n",
    "    children = [\n",
    "        (s + a, 1 if s + a == 100 else 0, p_h),  # win case\n",
    "        (s - a, 0, 1 - p_h)                       # lose case\n",
    "    ]\n",
    "    return children"
   ]
  },
  {
   "cell_type": "code",
   "execution_count": 97,
   "id": "a924a9c5-55f8-4e00-aa04-1d657c87559d",
   "metadata": {},
   "outputs": [
    {
     "name": "stdout",
     "output_type": "stream",
     "text": [
      "7 1 [(8, 0, 0.4), (6, 0, 0.6)]\n",
      "7 2 [(9, 0, 0.4), (5, 0, 0.6)]\n",
      "7 3 [(10, 0, 0.4), (4, 0, 0.6)]\n",
      "7 4 [(11, 0, 0.4), (3, 0, 0.6)]\n",
      "7 5 [(12, 0, 0.4), (2, 0, 0.6)]\n",
      "7 6 [(13, 0, 0.4), (1, 0, 0.6)]\n",
      "7 7 [(14, 0, 0.4), (0, 0, 0.6)]\n"
     ]
    }
   ],
   "source": [
    "s=7\n",
    "for a in actions_from_state(s):\n",
    "    print(s,a,weighted_children(s,a))"
   ]
  },
  {
   "cell_type": "markdown",
   "id": "1ab5be8d-0f24-41c2-9e82-43461d078ae8",
   "metadata": {},
   "source": [
    "## Value Iteration"
   ]
  },
  {
   "cell_type": "code",
   "execution_count": 170,
   "id": "3c09e459-c598-444e-a20e-13cacca57579",
   "metadata": {},
   "outputs": [],
   "source": [
    "theta = 1e-50\n",
    "done = False\n",
    "V = [0 for s in states]\n",
    "V[100] = 0\n",
    "V[0] = 0\n",
    "gamma = 0.75\n",
    "pi = [ 0 for s in states ]\n",
    "\n",
    "def reward(s):\n",
    "    return 1 if s==100 else 0\n",
    "    \n",
    "while (not done):\n",
    "    delta = 0\n",
    "    for s in range(1,100):\n",
    "        state_actions = actions_from_state(s)\n",
    "        action_values = []\n",
    "        v = V[s]\n",
    "        for a in state_actions:\n",
    "            action_values.append( (p_h*(reward(s+a)+gamma*V[s+a]) + (1-p_h)*(reward(s-a)+gamma*V[s-a]),a) )\n",
    "        best_value = max(action_values, key=lambda x:(x[0],-(x[1])))[0]\n",
    "        V[s] = best_value\n",
    "        delta = max(delta, abs(v - V[s]))\n",
    "    done = (delta < theta)\n",
    "V[100]=0"
   ]
  },
  {
   "cell_type": "code",
   "execution_count": 171,
   "id": "d80f4e2b-d966-4985-b926-73655452db62",
   "metadata": {},
   "outputs": [
    {
     "data": {
      "text/plain": [
       "0.001106023892278299"
      ]
     },
     "execution_count": 171,
     "metadata": {},
     "output_type": "execute_result"
    }
   ],
   "source": [
    "V[2]"
   ]
  },
  {
   "cell_type": "code",
   "execution_count": 172,
   "id": "317a1d3f-aaef-48eb-9dd0-e5550ac45a84",
   "metadata": {},
   "outputs": [],
   "source": [
    "pi = [0]*101\n",
    "for s in range(1,100):\n",
    "    state_actions = actions_from_state(s)\n",
    "    action_values = []\n",
    "    for a in state_actions:\n",
    "        action_values.append( (p_h*(reward(s+a)+gamma*V[s+a]) + (1-p_h)*(reward(s-a)+gamma*V[s-a]),a) )\n",
    "    best_action = max(action_values, key=lambda x:(x[0],-x[1]))[1]\n",
    "    pi[s] = best_action"
   ]
  },
  {
   "cell_type": "code",
   "execution_count": 173,
   "id": "008a49bf-cb0a-4aaf-9132-8769de942af5",
   "metadata": {},
   "outputs": [
    {
     "data": {
      "text/plain": [
       "[<matplotlib.lines.Line2D at 0x7a26814871a0>]"
      ]
     },
     "execution_count": 173,
     "metadata": {},
     "output_type": "execute_result"
    },
    {
     "data": {
      "image/png": "[encoded data removed]",
      "text/plain": [
       "<Figure size 640x480 with 1 Axes>"
      ]
     },
     "metadata": {},
     "output_type": "display_data"
    }
   ],
   "source": [
    "plt.plot(V[:-1])"
   ]
  },
  {
   "cell_type": "code",
   "execution_count": 174,
   "id": "43a85988-e52d-43fd-b623-1df522c96f4a",
   "metadata": {},
   "outputs": [
    {
     "data": {
      "text/plain": [
       "<BarContainer object of 101 artists>"
      ]
     },
     "execution_count": 174,
     "metadata": {},
     "output_type": "execute_result"
    },
    {
     "data": {
      "image/png": "[encoded data removed]",
      "text/plain": [
       "<Figure size 640x480 with 1 Axes>"
      ]
     },
     "metadata": {},
     "output_type": "display_data"
    }
   ],
   "source": [
    "plt.bar(range(len(pi)),pi)"
   ]
  },
  {
   "cell_type": "code",
   "execution_count": 93,
   "id": "eabc8929-c053-468c-9307-1d3b41edc0ce",
   "metadata": {},
   "outputs": [],
   "source": [
    "import numpy as np\n",
    "import matplotlib.pyplot as plt\n",
    "\n",
    "p_heads = .4\n",
    "GAMMA = 1\n",
    "rewards = np.zeros(101) #rewards for each state including 100\n",
    "rewards[100] = 1\n",
    "\n",
    "class value_iteration:\n",
    "\tdef __init__(self):\n",
    "\t\tself.val_state = np.zeros(101, dtype=np.float128) #start_state is from 1 to 99 (0 and 100 are dummy)\n",
    "\t\tself.policy = np.zeros(100, dtype=np.float128) #policy for each state\n",
    "\t\n",
    "\tdef bellman(self, state, action, val_state):\n",
    "\t\treturn p_heads * (rewards[state + action] + GAMMA * val_state[state + action]) + (1 - p_heads) * (rewards[state - action] + GAMMA * val_state[state - action])\n",
    "\n",
    "\tdef val_iteration(self, epsilon = 1e-20):\n",
    "\t\twhile True:\n",
    "\t\t\tdelta = 0\n",
    "\t\t\tfor state in range(1,100): \n",
    "\t\t\t\tv = self.val_state[state] \n",
    "\t\t\t\tmax_action = min(state, 100-state)\n",
    "\t\t\t\tval_action = np.zeros(max_action+1, dtype=np.float128)\n",
    "\t\t\t\tfor action in range(1, max_action+1):\n",
    "\t\t\t\t\tval_action[action] = self.bellman(state, action, self.val_state) \n",
    "\t\t\t\t\t#val is weighted val (by p_head) of next state value or 1 if reach 100\n",
    "\t\t\t\tself.val_state[state] = np.max(val_action)\n",
    "\t\t\t\tdelta = max(delta, np.abs(self.val_state[state] - v)) #find maximum change over all states\n",
    "\t\t\tif delta < epsilon:\n",
    "\t\t\t\tbreak\n",
    "\t\treturn self.policy_it()\n",
    "\n",
    "\n",
    "\tdef policy_it(self):\n",
    "\t\tfor state in range(1,100):\n",
    "\t\t\tmax_action = min(state, 100-state)\n",
    "\t\t\tval_action = np.zeros(max_action+1)\n",
    "\t\t\tfor action in range(1, max_action+1):\n",
    "\t\t\t\tval_action[action] = self.bellman(state, action, self.val_state)\n",
    "\t\t\tbest_action = np.argmax(val_action)\n",
    "\t\t\tprint(state, -np.sort(-val_action)[:2])\n",
    "\t\t\tself.policy[state] = best_action\n",
    "\t\treturn self.val_state, self.policy\n"
   ]
  },
  {
   "cell_type": "code",
   "execution_count": 94,
   "id": "0774c6fa-b38c-4a22-9159-e7fcec5d6724",
   "metadata": {},
   "outputs": [
    {
     "name": "stdout",
     "output_type": "stream",
     "text": [
      "1 [0.00206562 0.        ]\n",
      "2 [0.00516406 0.00492956]\n",
      "3 [0.00922547 0.0082625 ]\n",
      "4 [0.01291015 0.01248944]\n",
      "5 [0.0173854  0.01697156]\n",
      "6 [0.02306368 0.02155688]\n",
      "7 [0.02781411 0.02733512]\n",
      "8 [0.03227539 0.0317625 ]\n",
      "9 [0.03768507 0.03690188]\n",
      "10 [0.0434635  0.04278422]\n",
      "11 [0.05035447 0.04914178]\n",
      "12 [0.05765919 0.05630843]\n",
      "13 [0.06523937 0.06523937]\n",
      "14 [0.06953528 0.06953528]\n",
      "15 [0.07443124 0.07443124]\n",
      "16 [0.08068847 0.08068847]\n",
      "17 [0.08661104 0.08661104]\n",
      "18 [0.09421268 0.09421268]\n",
      "19 [0.10314362 0.10314362]\n",
      "20 [0.10865874 0.10865874]\n",
      "21 [0.11596663 0.11596663]\n",
      "22 [0.12588617 0.12588617]\n",
      "23 [0.13357998 0.13357998]\n",
      "24 [0.14414799 0.14414799]\n",
      "25 [0.16       0.15172817]\n",
      "26 [0.16309844 0.16309844]\n",
      "27 [0.16774609 0.16774609]\n",
      "28 [0.17383821 0.17383821]\n",
      "29 [0.17936523 0.17936523]\n",
      "30 [0.1860781 0.1860781]\n",
      "31 [0.19459552 0.19459552]\n",
      "32 [0.20172117 0.20172117]\n",
      "33 [0.20841308 0.20841308]\n",
      "34 [0.21652761 0.21652761]\n",
      "35 [0.22519525 0.22519525]\n",
      "36 [0.2355317 0.2355317]\n",
      "37 [0.24648879 0.24648879]\n",
      "38 [0.25785906 0.25785906]\n",
      "39 [0.26430292 0.26430292]\n",
      "40 [0.27164686 0.27164686]\n",
      "41 [0.2810327 0.2810327]\n",
      "42 [0.28991657 0.28991657]\n",
      "43 [0.30131902 0.30131902]\n",
      "44 [0.31471544 0.31471544]\n",
      "45 [0.32298812 0.32298812]\n",
      "46 [0.33394994 0.33394994]\n",
      "47 [0.34882926 0.34882926]\n",
      "48 [0.36036996 0.36036996]\n",
      "49 [0.37622198 0.37622198]\n",
      "50 [0.4        0.38697256]\n",
      "51 [0.40309844 0.40309844]\n",
      "52 [0.40774609 0.40774609]\n",
      "53 [0.41383821 0.41383821]\n",
      "54 [0.41936523 0.41936523]\n",
      "55 [0.4260781 0.4260781]\n",
      "56 [0.43459552 0.43459552]\n",
      "57 [0.44172117 0.44172117]\n",
      "58 [0.44841308 0.44841308]\n",
      "59 [0.45652761 0.45652761]\n",
      "60 [0.46519525 0.46519525]\n",
      "61 [0.4755317 0.4755317]\n",
      "62 [0.48648879 0.48648879]\n",
      "63 [0.49785906 0.49785906]\n",
      "64 [0.50430292 0.50430292]\n",
      "65 [0.51164686 0.51164686]\n",
      "66 [0.5210327 0.5210327]\n",
      "67 [0.52991657 0.52991657]\n",
      "68 [0.54131902 0.54131902]\n",
      "69 [0.55471544 0.55471544]\n",
      "70 [0.56298812 0.56298812]\n",
      "71 [0.57394994 0.57394994]\n",
      "72 [0.58882926 0.58882926]\n",
      "73 [0.60036996 0.60036996]\n",
      "74 [0.61622198 0.61622198]\n",
      "75 [0.64       0.62759225]\n",
      "76 [0.64464766 0.64464766]\n",
      "77 [0.65161914 0.65161914]\n",
      "78 [0.66075731 0.66075731]\n",
      "79 [0.66904785 0.66904785]\n",
      "80 [0.67911715 0.67911715]\n",
      "81 [0.69189327 0.69189327]\n",
      "82 [0.70258175 0.70258175]\n",
      "83 [0.71261962 0.71261962]\n",
      "84 [0.72479141 0.72479141]\n",
      "85 [0.73779287 0.73779287]\n",
      "86 [0.75329756 0.75329756]\n",
      "87 [0.76973319 0.76973319]\n",
      "88 [0.78678859 0.78042167]\n",
      "89 [0.79645439 0.79506127]\n",
      "90 [0.80747029 0.80649225]\n",
      "91 [0.82154905 0.82090242]\n",
      "92 [0.83487485 0.83372085]\n",
      "93 [0.85197853 0.84975417]\n",
      "94 [0.87207316 0.86497999]\n",
      "95 [0.88448217 0.88361386]\n",
      "96 [0.90092491 0.89998686]\n",
      "97 [0.92324389 0.91677692]\n",
      "98 [0.94055495 0.93967952]\n",
      "99 [0.96433297 0.        ]\n"
     ]
    },
    {
     "data": {
      "image/png": "[encoded data removed]",
      "text/plain": [
       "<Figure size 640x480 with 1 Axes>"
      ]
     },
     "metadata": {},
     "output_type": "display_data"
    },
    {
     "data": {
      "image/png": "[encoded data removed]",
      "text/plain": [
       "<Figure size 640x480 with 1 Axes>"
      ]
     },
     "metadata": {},
     "output_type": "display_data"
    }
   ],
   "source": [
    "vi = value_iteration()\n",
    "v, p = vi.val_iteration()\n",
    "\n",
    "# pi = policy_iteration()\n",
    "# v, p = pi.policy_evaluation()\n",
    "# print(v)\n",
    "# print(p)\n",
    "\n",
    "plt.plot(range(100), v[:100])\n",
    "plt.xlabel('Capital')\n",
    "plt.ylabel('Value estimates')\n",
    "plt.show()\n",
    "\n",
    "plt.bar(range(100), p, align = 'center', alpha = 0.5)\n",
    "for i in range(100):\n",
    "\tplt.text(i - 0.75, p[i] + 0.01, str(round(v[i],2)), fontsize=6)\n",
    "plt.xlabel('Capital')\n",
    "plt.xticks(np.arange(0, 101, 5))\n",
    "plt.ylabel('Final policy (stake)')\n",
    "plt.show()"
   ]
  },
  {
   "cell_type": "code",
   "execution_count": 92,
   "id": "42021f2b-ef53-4008-9ec3-57180b06cfe5",
   "metadata": {},
   "outputs": [
    {
     "data": {
      "text/plain": [
       "array([0.96433297, 0.94055495], dtype=float128)"
      ]
     },
     "execution_count": 92,
     "metadata": {},
     "output_type": "execute_result"
    }
   ],
   "source": [
    "-np.sort(-v)[:2]"
   ]
  },
  {
   "cell_type": "code",
   "execution_count": 402,
   "id": "025376af-f6f5-4a86-8e37-3bac51b5c014",
   "metadata": {},
   "outputs": [],
   "source": [
    "V = np.array([float(x) for x in V])"
   ]
  },
  {
   "cell_type": "code",
   "execution_count": 403,
   "id": "4bd99567-c0ab-48e2-9dcd-0f8f34c44cbe",
   "metadata": {},
   "outputs": [
    {
     "data": {
      "text/plain": [
       "array([0.        , 0.00104864, 0.00291285, 0.00491125, 0.00809032,\n",
       "       0.01075171, 0.01364138, 0.01959155, 0.02245031, 0.02529328,\n",
       "       0.02984175, 0.03421427, 0.03786851, 0.05176627, 0.05385209,\n",
       "       0.05700645, 0.06179173, 0.06487069, 0.06968877, 0.07946098,\n",
       "       0.08229071, 0.08653811, 0.09443456, 0.09825626, 0.10458512,\n",
       "       0.128     , 0.12957296, 0.13236927, 0.13536687, 0.14013549,\n",
       "       0.14412757, 0.14846207, 0.15738733, 0.16167547, 0.16593992,\n",
       "       0.17276262, 0.1793214 , 0.18480277, 0.2056494 , 0.20877814,\n",
       "       0.21350967, 0.22068759, 0.22530604, 0.23253316, 0.24719147,\n",
       "       0.25143607, 0.25780717, 0.26965184, 0.27538439, 0.28487768,\n",
       "       0.        , 0.00157296, 0.00436927, 0.00736687, 0.01213549,\n",
       "       0.01612757, 0.02046207, 0.02938733, 0.03367547, 0.03793992,\n",
       "       0.04476262, 0.0513214 , 0.05680277, 0.0776494 , 0.08077814,\n",
       "       0.08550967, 0.09268759, 0.09730604, 0.10453316, 0.11919147,\n",
       "       0.12343607, 0.12980717, 0.14165184, 0.14738439, 0.15687768,\n",
       "       0.192     , 0.19435943, 0.1985539 , 0.2030503 , 0.21020323,\n",
       "       0.21619135, 0.2226931 , 0.236081  , 0.24251321, 0.24890988,\n",
       "       0.25914393, 0.2689821 , 0.27720415, 0.3084741 , 0.31316721,\n",
       "       0.3202645 , 0.33103139, 0.33795906, 0.34879974, 0.37078721,\n",
       "       0.3771541 , 0.38671075, 0.40447777, 0.41307658, 0.42731652,\n",
       "       0.        ], dtype=float128)"
      ]
     },
     "execution_count": 403,
     "metadata": {},
     "output_type": "execute_result"
    }
   ],
   "source": [
    "V-v"
   ]
  },
  {
   "cell_type": "code",
   "execution_count": null,
   "id": "b15e3e5e-53e2-437e-b68a-665580e0fec6",
   "metadata": {},
   "outputs": [],
   "source": []
  },
  {
   "cell_type": "code",
   "execution_count": 410,
   "id": "097bcd93-9c8e-4ae4-9458-772ec9b959a7",
   "metadata": {},
   "outputs": [
    {
     "name": "stdout",
     "output_type": "stream",
     "text": [
      "Value Estimates:\n",
      "[0.0, 0.0020656247765443152, 0.005164061941360788, 0.009225471067793888, 0.01291015485340197, 0.01738539898132428, 0.02306367766948472, 0.02781411305627053, 0.032275387133504925, 0.037685072795366426, 0.0434634974533107, 0.05035446998069343, 0.05765919417371179, 0.06523937486592658, 0.06953528264067634, 0.07443123938879456, 0.08068846783376232, 0.08661104367721985, 0.09421268198841606, 0.10314362491955595, 0.10865874363327674, 0.11596662620633191, 0.12588617495173357, 0.13357997572379915, 0.14414798543427948, 0.16, 0.16309843716481648, 0.16774609291204118, 0.17383820660169083, 0.17936523228010295, 0.18607809847198642, 0.19459551650422707, 0.2017211695844058, 0.20841308070025738, 0.21652760919304964, 0.22519524617996606, 0.23553170497104015, 0.2464887912605677, 0.2578590622988899, 0.2643029239610145, 0.27164685908319186, 0.2810327017506435, 0.2899165655158298, 0.3013190229826241, 0.31471543737933394, 0.3229881154499151, 0.33394993930949785, 0.3488292624276004, 0.3603699635856987, 0.3762219781514192, 0.4, 0.40309843716481647, 0.40774609291204117, 0.41383820660169085, 0.419365232280103, 0.4260780984719864, 0.43459551650422706, 0.4417211695844058, 0.44841308070025737, 0.45652760919304963, 0.46519524617996605, 0.47553170497104014, 0.4864887912605677, 0.4978590622988899, 0.5043029239610145, 0.5116468590831919, 0.5210327017506435, 0.5299165655158298, 0.5413190229826241, 0.5547154373793339, 0.5629881154499151, 0.5739499393094979, 0.5888292624276004, 0.6003699635856987, 0.6162219781514192, 0.64, 0.6446476557472247, 0.6516191393680618, 0.6607573099025362, 0.6690478484201544, 0.6791171477079796, 0.6918932747563407, 0.7025817543766087, 0.7126196210503861, 0.7247914137895745, 0.737792869269949, 0.7532975574565602, 0.7697331868908516, 0.7867885934483348, 0.7964543859415217, 0.8074702886247878, 0.8215490526259652, 0.8348748482737447, 0.8519785344739361, 0.8720731560690009, 0.8844821731748727, 0.9009249089642468, 0.9232438936414006, 0.9405549453785481, 0.9643329672271288, 0.0]\n"
     ]
    }
   ],
   "source": [
    "import mpmath as mp\n",
    "import random\n",
    "\n",
    "# Set precision for mpmath\n",
    "mp.mp.dps = 150  # set the decimal places for precision\n",
    "\n",
    "# Problem setup\n",
    "theta = mp.mpf('1e-20')\n",
    "done = False\n",
    "goal = 100\n",
    "states = list(range(goal + 1))  # defining states from 0 to 100\n",
    "V = [mp.mpf(random.random()) for s in states]\n",
    "V[100] = mp.mpf(0)\n",
    "V[0] = mp.mpf(0)\n",
    "gamma = mp.mpf(1)\n",
    "pi = [0 for s in states]\n",
    "\n",
    "# Defining reward function\n",
    "def reward(s):\n",
    "    return mp.mpf(1) if s == 100 else mp.mpf(0)\n",
    "\n",
    "# Placeholder for actions_from_state and weighted_children functions\n",
    "def actions_from_state(s):\n",
    "    return range(1, min(s, goal - s) + 1)  # valid betting actions\n",
    "\n",
    "def weighted_children(s, a):\n",
    "    return [(s + a, reward(s + a), mp.mpf('0.4')), (s - a, reward(s - a), mp.mpf('0.6'))]\n",
    "\n",
    "# Value iteration loop\n",
    "while not done:\n",
    "    delta = mp.mpf(0)\n",
    "    for s in range(1, 100):\n",
    "        v = V[s]\n",
    "        state_actions = actions_from_state(s)\n",
    "        action_values = []\n",
    "        for a in state_actions:\n",
    "            action_values.append( (p_h*(reward(s+a)+gamma*V[s+a]) + (mp.mpf(1)-p_h)*(reward(s-a)+gamma*V[s-a]),a) )\n",
    "        best_value = max(action_values, key=lambda x:x[0])[0]\n",
    "        V[s] = best_value\n",
    "        delta = max(delta, abs(v - V[s]))\n",
    "    done = (delta < theta)\n",
    "\n",
    "V[100] = mp.mpf(0)\n",
    "\n",
    "# Output results\n",
    "print(\"Value Estimates:\")\n",
    "print([float(v) for v in V])  # converting mpmath types to floats for easier reading\n"
   ]
  },
  {
   "cell_type": "code",
   "execution_count": 412,
   "id": "4ceb9ea2-73a6-49e0-9d54-3b07ab26b6ef",
   "metadata": {},
   "outputs": [],
   "source": [
    "def fv(a):\n",
    "    return [float(x[0]) for x in a]"
   ]
  },
  {
   "cell_type": "code",
   "execution_count": 415,
   "id": "29dee4ad-fc47-4ab8-bb6f-4db567805aa1",
   "metadata": {},
   "outputs": [],
   "source": [
    "my_v = V\n",
    "the_v = v"
   ]
  },
  {
   "cell_type": "code",
   "execution_count": 416,
   "id": "3ca42e47-581e-4048-aabf-89ab765efac7",
   "metadata": {},
   "outputs": [
    {
     "ename": "TypeError",
     "evalue": "'mpf' object is not subscriptable",
     "output_type": "error",
     "traceback": [
      "\u001b[0;31m---------------------------------------------------------------------------\u001b[0m",
      "\u001b[0;31mTypeError\u001b[0m                                 Traceback (most recent call last)",
      "Cell \u001b[0;32mIn[416], line 11\u001b[0m\n\u001b[1;32m      9\u001b[0m \u001b[38;5;28;01mfor\u001b[39;00m a \u001b[38;5;129;01min\u001b[39;00m state_actions:\n\u001b[1;32m     10\u001b[0m     action_values\u001b[38;5;241m.\u001b[39mappend( (p_h\u001b[38;5;241m*\u001b[39m(reward(s\u001b[38;5;241m+\u001b[39ma)\u001b[38;5;241m+\u001b[39mgamma\u001b[38;5;241m*\u001b[39mVV[s\u001b[38;5;241m+\u001b[39ma]) \u001b[38;5;241m+\u001b[39m (mp\u001b[38;5;241m.\u001b[39mmpf(\u001b[38;5;241m1\u001b[39m)\u001b[38;5;241m-\u001b[39mp_h)\u001b[38;5;241m*\u001b[39m(reward(s\u001b[38;5;241m-\u001b[39ma)\u001b[38;5;241m+\u001b[39mgamma\u001b[38;5;241m*\u001b[39mVV[s\u001b[38;5;241m-\u001b[39ma]),a) )\n\u001b[0;32m---> 11\u001b[0m     the_action_values\u001b[38;5;241m.\u001b[39mappend( (p_h\u001b[38;5;241m*\u001b[39m(reward(s\u001b[38;5;241m+\u001b[39ma)\u001b[38;5;241m+\u001b[39mgamma\u001b[38;5;241m*\u001b[39m\u001b[43mthe_v\u001b[49m\u001b[43m[\u001b[49m\u001b[43ms\u001b[49m\u001b[38;5;241;43m+\u001b[39;49m\u001b[43ma\u001b[49m\u001b[43m]\u001b[49m) \u001b[38;5;241m+\u001b[39m (mp\u001b[38;5;241m.\u001b[39mmpf(\u001b[38;5;241m1\u001b[39m)\u001b[38;5;241m-\u001b[39mp_h)\u001b[38;5;241m*\u001b[39m(reward(s\u001b[38;5;241m-\u001b[39ma)\u001b[38;5;241m+\u001b[39mgamma\u001b[38;5;241m*\u001b[39mthe_v[s\u001b[38;5;241m-\u001b[39ma]),a) )\n\u001b[1;32m     12\u001b[0m best_action \u001b[38;5;241m=\u001b[39m \u001b[38;5;28mmax\u001b[39m(action_values, key\u001b[38;5;241m=\u001b[39m\u001b[38;5;28;01mlambda\u001b[39;00m x:x[\u001b[38;5;241m0\u001b[39m])[\u001b[38;5;241m1\u001b[39m]\n\u001b[1;32m     13\u001b[0m difference \u001b[38;5;241m=\u001b[39m np\u001b[38;5;241m.\u001b[39marray(fv(action_values)) \u001b[38;5;241m-\u001b[39m np\u001b[38;5;241m.\u001b[39marray(fv(the_action_values))\n",
      "\u001b[0;31mTypeError\u001b[0m: 'mpf' object is not subscriptable"
     ]
    }
   ],
   "source": [
    "pi = [0]*101\n",
    "VV = my_v\n",
    "p_h = mp.mpf('0.4')\n",
    "gamma = mp.mpf(1)\n",
    "for s in range(1,100):\n",
    "    state_actions = actions_from_state(s)\n",
    "    action_values = []\n",
    "    the_action_values = []\n",
    "    for a in state_actions:\n",
    "        action_values.append( (p_h*(reward(s+a)+gamma*VV[s+a]) + (mp.mpf(1)-p_h)*(reward(s-a)+gamma*VV[s-a]),a) )\n",
    "        the_action_values.append( (p_h*(reward(s+a)+gamma*the_v[s+a]) + (mp.mpf(1)-p_h)*(reward(s-a)+gamma*the_v[s-a]),a) )\n",
    "    best_action = max(action_values, key=lambda x:x[0])[1]\n",
    "    difference = np.array(fv(action_values)) - np.array(fv(the_action_values))\n",
    "    print(s, np.max(difference))\n",
    "    pi[s] = best_action"
   ]
  },
  {
   "cell_type": "code",
   "execution_count": 408,
   "id": "40894651-1e8e-4df0-a04c-5363c42e4b61",
   "metadata": {},
   "outputs": [
    {
     "data": {
      "text/plain": [
       "<BarContainer object of 101 artists>"
      ]
     },
     "execution_count": 408,
     "metadata": {},
     "output_type": "execute_result"
    },
    {
     "data": {
      "image/png": "[encoded data removed]",
      "text/plain": [
       "<Figure size 640x480 with 1 Axes>"
      ]
     },
     "metadata": {},
     "output_type": "display_data"
    }
   ],
   "source": [
    "plt.bar(range(len(pi)),pi)"
   ]
  },
  {
   "cell_type": "code",
   "execution_count": 409,
   "id": "210f51d1-3f19-4610-a68e-0360459a528c",
   "metadata": {},
   "outputs": [
    {
     "data": {
      "text/plain": [
       "mpf('0.399999999999999999999999999999999999999999999999999999999999999999999999999999999999999999999999999999999999999999999999999999999999999999999999999999992')"
      ]
     },
     "execution_count": 409,
     "metadata": {},
     "output_type": "execute_result"
    }
   ],
   "source": [
    "mp.mpf('0.4')"
   ]
  },
  {
   "cell_type": "code",
   "execution_count": 81,
   "id": "579e7973-a9c6-4628-b854-af53fc945b79",
   "metadata": {},
   "outputs": [
    {
     "name": "stdout",
     "output_type": "stream",
     "text": [
      "Machine parameters for float128\n",
      "---------------------------------------------------------------\n",
      "precision =  18   resolution = 1e-18\n",
      "machep =    -63   eps =        1.084202172485504434e-19\n",
      "negep =     -64   epsneg =     5.42101086242752217e-20\n",
      "minexp = -16382   tiny =       3.3621031431120935063e-4932\n",
      "maxexp =  16384   max =        1.189731495357231765e+4932\n",
      "nexp =       15   min =        -max\n",
      "smallest_normal = 3.3621031431120935063e-4932   smallest_subnormal = 4e-4951\n",
      "---------------------------------------------------------------\n",
      "\n"
     ]
    }
   ],
   "source": [
    "import numpy as np\n",
    "\n",
    "# Check properties of np.float128\n",
    "print(np.finfo(np.float128))\n"
   ]
  },
  {
   "cell_type": "code",
   "execution_count": 82,
   "id": "42b4a6c5-98b1-44dc-8eee-2a7614b2590f",
   "metadata": {},
   "outputs": [
    {
     "name": "stdout",
     "output_type": "stream",
     "text": [
      "Machine parameters for float64\n",
      "---------------------------------------------------------------\n",
      "precision =  15   resolution = 1.0000000000000001e-15\n",
      "machep =    -52   eps =        2.2204460492503131e-16\n",
      "negep =     -53   epsneg =     1.1102230246251565e-16\n",
      "minexp =  -1022   tiny =       2.2250738585072014e-308\n",
      "maxexp =   1024   max =        1.7976931348623157e+308\n",
      "nexp =       11   min =        -max\n",
      "smallest_normal = 2.2250738585072014e-308   smallest_subnormal = 4.9406564584124654e-324\n",
      "---------------------------------------------------------------\n",
      "\n"
     ]
    }
   ],
   "source": [
    "import numpy as np\n",
    "\n",
    "# Check properties of np.float64\n",
    "print(np.finfo(np.float64))\n"
   ]
  },
  {
   "cell_type": "code",
   "execution_count": 83,
   "id": "4545a468-cbca-4bbf-8718-7a8b3498ca39",
   "metadata": {},
   "outputs": [
    {
     "name": "stdout",
     "output_type": "stream",
     "text": [
      "Float information (sys.float_info):\n",
      "sys.float_info(max=1.7976931348623157e+308, max_exp=1024, max_10_exp=308, min=2.2250738585072014e-308, min_exp=-1021, min_10_exp=-307, dig=15, mant_dig=53, epsilon=2.220446049250313e-16, radix=2, rounds=1)\n",
      "\n",
      "Smallest positive float (math.ulp(0.0)):\n",
      "5e-324\n"
     ]
    }
   ],
   "source": [
    "import sys\n",
    "import math\n",
    "\n",
    "print(\"Float information (sys.float_info):\")\n",
    "print(sys.float_info)\n",
    "\n",
    "print(\"\\nSmallest positive float (math.ulp(0.0)):\")\n",
    "print(math.ulp(0.0))  # Smallest amount by which two floating-point numbers can differ\n"
   ]
  },
  {
   "cell_type": "code",
   "execution_count": null,
   "id": "6eb75318-a3f5-4497-90cb-f82a7a589f12",
   "metadata": {},
   "outputs": [],
   "source": []
  }
 ],
 "metadata": {
  "kernelspec": {
   "display_name": "Python 3 (ipykernel)",
   "language": "python",
   "name": "python3"
  },
  "language_info": {
   "codemirror_mode": {
    "name": "ipython",
    "version": 3
   },
   "file_extension": ".py",
   "mimetype": "text/x-python",
   "name": "python",
   "nbconvert_exporter": "python",
   "pygments_lexer": "ipython3",
   "version": "3.12.1"
  }
 },
 "nbformat": 4,
 "nbformat_minor": 5
}
