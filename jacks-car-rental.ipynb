{
 "cells": [
  {
   "cell_type": "markdown",
   "id": "4d2e884d-374f-44ca-98b4-4beb2bd1eb33",
   "metadata": {},
   "source": [
    "## Jack's Car Rental"
   ]
  },
  {
   "cell_type": "code",
   "execution_count": 1,
   "id": "eb5eedaa-205c-44fe-b2f0-a3af8164b612",
   "metadata": {},
   "outputs": [],
   "source": [
    "import numpy as np\n",
    "import math\n",
    "import random"
   ]
  },
  {
   "cell_type": "code",
   "execution_count": 2,
   "id": "2b4082a1-f6a2-41b3-a298-be329ac06b61",
   "metadata": {},
   "outputs": [],
   "source": [
    "max_cars = 20\n",
    "max_moves = 3\n",
    "state_ceiling = np.array([max_cars, max_cars])\n",
    "states = [np.array([i,j]) for i in range(max_cars+1) for j in range(max_cars+1)]"
   ]
  },
  {
   "cell_type": "code",
   "execution_count": 3,
   "id": "71ef6493-0720-444f-95c3-1afe7f5ff49e",
   "metadata": {},
   "outputs": [],
   "source": [
    "actions = [np.array([-i,i]) for i in range(-max_moves,max_moves+1)]"
   ]
  },
  {
   "cell_type": "code",
   "execution_count": 4,
   "id": "531a6dc8-9ab3-4560-bc6b-774f421f80d0",
   "metadata": {},
   "outputs": [],
   "source": [
    "def poisson(l, k):\n",
    "    return l**k/math.factorial(k)*math.exp(-l)"
   ]
  },
  {
   "cell_type": "markdown",
   "id": "2198b15d-8ad7-477c-ba38-bc09fec273f6",
   "metadata": {},
   "source": [
    "        "
   ]
  },
  {
   "cell_type": "code",
   "execution_count": 5,
   "id": "8b951b4d-5a1d-4080-8a06-642f79c4d803",
   "metadata": {},
   "outputs": [],
   "source": [
    "p = dict()\n",
    "p_rentals = [0]*max_cars\n",
    "p_returns = [0]*max_cars\n",
    "p_in = [[poisson(3,a)*poisson(2,b) for b in range(max_cars+1)] for a in range(max_cars+1)]\n",
    "p_out = [[poisson(3,a)*poisson(4,b) for b in range(max_cars+1)] for a in range(max_cars+1)]"
   ]
  },
  {
   "cell_type": "code",
   "execution_count": 6,
   "id": "ecaa80f1-93a9-4a79-bcfc-90db2a8551ff",
   "metadata": {},
   "outputs": [],
   "source": [
    "m = max_cars+1\n",
    "p = dict()\n",
    "for s in states:\n",
    "    for a in actions:\n",
    "        p[(s[0],s[1],a[0],a[1])] = dict()"
   ]
  },
  {
   "cell_type": "code",
   "execution_count": 7,
   "id": "7bb15913-7660-4d16-aca1-901e1b6ad4fa",
   "metadata": {},
   "outputs": [],
   "source": [
    "def truncate(s):\n",
    "    s = np.min([s, state_ceiling], axis=0)\n",
    "    s = np.max([s, [0,0]], axis = 0)\n",
    "    return s"
   ]
  },
  {
   "cell_type": "code",
   "execution_count": 8,
   "id": "7470fadf-163a-40b2-9852-5e168d5eb886",
   "metadata": {},
   "outputs": [],
   "source": [
    "import time"
   ]
  },
  {
   "cell_type": "code",
   "execution_count": 9,
   "id": "10110f32-9c80-48e1-87b1-35b781381c20",
   "metadata": {},
   "outputs": [],
   "source": [
    "IN = 100\n",
    "OUT = 101\n",
    "def prob(i, x):\n",
    "    if (i == IN):\n",
    "        return p_in[x[0]][x[1]]\n",
    "    elif (i == OUT):\n",
    "        return p_out[x[0]][x[1]]\n",
    "    else:\n",
    "        return None"
   ]
  },
  {
   "cell_type": "code",
   "execution_count": 10,
   "id": "a5022f74-786f-43dc-b6cf-b0043daa4f4e",
   "metadata": {},
   "outputs": [],
   "source": [
    "lookup_p = dict()\n",
    "for s_i in states:\n",
    "    for action in actions:\n",
    "        s_temp = s_i + action\n",
    "        if np.any(s_temp < 0) or np.any(s_temp > max_cars):\n",
    "            continue\n",
    "        this_p = dict()\n",
    "        total_p = 0\n",
    "        for s_f in states:\n",
    "            w = s_temp - s_f\n",
    "            for x in range(max(0, w[0]), s_temp[0]+1):\n",
    "                for y in range(max(0, w[1]), s_temp[1]+1):\n",
    "                    r = x+y\n",
    "                    cars_out = np.array([x,y]) # out will always be <= s_temp\n",
    "                    cars_in = s_f - s_temp + cars_out\n",
    "                    # print(s_temp,cars_out, cars_in, s_f)\n",
    "                    # if np.any(cars_in < 0):\n",
    "                    #    print(\"Error in cars_in\")\n",
    "                    k = (s_f[0], s_f[1], 10*r)\n",
    "                    pr = prob(IN, cars_in)*prob(OUT,cars_out)\n",
    "                    if k in this_p.keys():\n",
    "                        this_p[k] += pr\n",
    "                    else:\n",
    "                        this_p.update( { k : pr } )\n",
    "                    total_p += pr\n",
    "        if (total_p > 0):\n",
    "            for k in this_p:\n",
    "                this_p[k] /= total_p\n",
    "        k2 = (s_i[0], s_i[1], action[0], action[1])\n",
    "        lookup_p.update( { k2: this_p } )"
   ]
  },
  {
   "cell_type": "code",
   "execution_count": null,
   "id": "f61e773a-3f33-4fbb-8446-d60f1e9f86c6",
   "metadata": {},
   "outputs": [],
   "source": [
    "import pickle\n",
    "with open(\"prob-3.pk\",\"wb\") as f:\n",
    "    pickle.dump(lookup_p, f)"
   ]
  },
  {
   "cell_type": "markdown",
   "id": "cbf51f00-76d9-4fa0-a6ba-171ad883ae6e",
   "metadata": {},
   "source": [
    "# Import data"
   ]
  },
  {
   "cell_type": "code",
   "execution_count": 1,
   "id": "f0b11c2c-e01e-4d76-b9b9-dd6ad98c5411",
   "metadata": {
    "scrolled": true
   },
   "outputs": [
    {
     "ename": "EOFError",
     "evalue": "Ran out of input",
     "output_type": "error",
     "traceback": [
      "\u001b[0;31m---------------------------------------------------------------------------\u001b[0m",
      "\u001b[0;31mEOFError\u001b[0m                                  Traceback (most recent call last)",
      "Cell \u001b[0;32mIn[1], line 3\u001b[0m\n\u001b[1;32m      1\u001b[0m \u001b[38;5;28;01mimport\u001b[39;00m \u001b[38;5;21;01mpickle\u001b[39;00m\n\u001b[1;32m      2\u001b[0m \u001b[38;5;28;01mwith\u001b[39;00m \u001b[38;5;28mopen\u001b[39m(\u001b[38;5;124m\"\u001b[39m\u001b[38;5;124mprob-3.pk\u001b[39m\u001b[38;5;124m\"\u001b[39m,\u001b[38;5;124m\"\u001b[39m\u001b[38;5;124mrb\u001b[39m\u001b[38;5;124m\"\u001b[39m) \u001b[38;5;28;01mas\u001b[39;00m f:\n\u001b[0;32m----> 3\u001b[0m     p \u001b[38;5;241m=\u001b[39m \u001b[43mpickle\u001b[49m\u001b[38;5;241;43m.\u001b[39;49m\u001b[43mload\u001b[49m\u001b[43m(\u001b[49m\u001b[43mf\u001b[49m\u001b[43m)\u001b[49m\n",
      "\u001b[0;31mEOFError\u001b[0m: Ran out of input"
     ]
    }
   ],
   "source": [
    "import pickle\n",
    "with open(\"prob-3.pk\",\"rb\") as f:\n",
    "    p = pickle.load(f)"
   ]
  },
  {
   "cell_type": "code",
   "execution_count": null,
   "id": "79ec9ef6-4bdc-4385-8e38-a3ada402bddb",
   "metadata": {},
   "outputs": [],
   "source": []
  }
 ],
 "metadata": {
  "kernelspec": {
   "display_name": "Python 3 (ipykernel)",
   "language": "python",
   "name": "python3"
  },
  "language_info": {
   "codemirror_mode": {
    "name": "ipython",
    "version": 3
   },
   "file_extension": ".py",
   "mimetype": "text/x-python",
   "name": "python",
   "nbconvert_exporter": "python",
   "pygments_lexer": "ipython3",
   "version": "3.12.1"
  }
 },
 "nbformat": 4,
 "nbformat_minor": 5
}
