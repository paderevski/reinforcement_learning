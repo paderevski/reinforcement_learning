{
 "cells": [
  {
   "cell_type": "markdown",
   "id": "358b8dbe-bf5f-4afb-9de1-d01cd41bb93f",
   "metadata": {},
   "source": [
    "# Monte Carlo Methods"
   ]
  },
  {
   "cell_type": "markdown",
   "id": "97fcb04a-f562-46ae-a56a-910fd8f3a560",
   "metadata": {},
   "source": [
    "First-visit monte carlo"
   ]
  },
  {
   "cell_type": "code",
   "execution_count": 5,
   "id": "e4cd6c07-7bb7-4540-97f1-7648a40c3f77",
   "metadata": {},
   "outputs": [],
   "source": [
    "import numpy as np, matplotlib, random, pandas, seaborn"
   ]
  },
  {
   "cell_type": "code",
   "execution_count": 13,
   "id": "128a30ff-822b-49c4-8746-2d9fc1da6f50",
   "metadata": {},
   "outputs": [
    {
     "data": {
      "text/plain": [
       "array([0.53034483, 0.47166903, 0.22728366, 0.30481196, 0.8130615 ,\n",
       "       0.13527398, 0.56303926, 0.66315504, 0.42541064, 0.03472426,\n",
       "       1.        ])"
      ]
     },
     "execution_count": 13,
     "metadata": {},
     "output_type": "execute_result"
    }
   ],
   "source": [
    "x=np.random.random(10)\n",
    "np.append(x,1)"
   ]
  },
  {
   "cell_type": "code",
   "execution_count": 16,
   "id": "579a0679-c8e8-4bce-a5b8-a0cb54136c86",
   "metadata": {},
   "outputs": [],
   "source": [
    "class tape:\n",
    "    def __init__(self, policy, environment, length):\n",
    "        self.environment = environment\n",
    "        self.policy = policy\n",
    "        self.states = np.zeros((length,), dtype='int32') \n",
    "        self.actions = np.zeros((length,), dtype='int32') \n",
    "        self.rewards = np.zeros((length,), dtype='float128') \n",
    "        self.length = length\n",
    "        \n",
    "    def playout(start_state):\n",
    "        seen_states = set()\n",
    "        first_seen = [False] * self.length\n",
    "        self.states[0] = start_state\n",
    "        self.actions[0] = self.policy(start_state)\n",
    "        for i in range(1, self.length + 1): # the last s and a are ignored\n",
    "            if s not in seen_states:\n",
    "                first_seen[i-1] = True\n",
    "                seen_states.insert(s)\n",
    "            r,s = environment(s,a)\n",
    "            self.rewards[i] = r\n",
    "            self.states[i] = s\n",
    "            a = self.policy(start_state)\n",
    "            self.actions[i] = a\n",
    "        self.first_seen = first_seen"
   ]
  },
  {
   "cell_type": "code",
   "execution_count": 17,
   "id": "046d315e-3307-45c2-a6b3-6403ad43a2a1",
   "metadata": {},
   "outputs": [],
   "source": [
    "class monte_carlo:\n",
    "    def __init__(self, policy, environment, num_steps):\n",
    "        self.num_steps = num_steps\n",
    "        self.states = []\n",
    "        self.V = []\n",
    "        self.pi = []\n",
    "        self.policy = policy\n",
    "        self.environment= environment\n",
    "\n",
    "    def estimate_v_first_visit(start_state):\n",
    "        v = np.random.random(self.num_steps)\n",
    "        returns = np.array(random.self.num_steps)\n",
    "        hits = np.array(random\n",
    "        while True:\n",
    "            tape = tape(self.policy, self.environment, self.num_steps)\n",
    "            tape.playout(start_state)\n",
    "            G = 0\n",
    "            for t in range(self.num_steps-1,-1,-1):\n",
    "                G = gamma*G + tape.rewards[t+1]\n",
    "                if tape.first_seen(t):\n",
    "                    v = (self.V[tape.states[t]] + (n-1) * returns[tape.states[t]]) / n"
   ]
  },
  {
   "cell_type": "code",
   "execution_count": null,
   "id": "a1bdace1-d324-4eb5-945d-4b005aed0770",
   "metadata": {},
   "outputs": [],
   "source": []
  }
 ],
 "metadata": {
  "kernelspec": {
   "display_name": "Python 3 (ipykernel)",
   "language": "python",
   "name": "python3"
  },
  "language_info": {
   "codemirror_mode": {
    "name": "ipython",
    "version": 3
   },
   "file_extension": ".py",
   "mimetype": "text/x-python",
   "name": "python",
   "nbconvert_exporter": "python",
   "pygments_lexer": "ipython3",
   "version": "3.12.1"
  }
 },
 "nbformat": 4,
 "nbformat_minor": 5
}
